{
 "cells": [
  {
   "cell_type": "code",
   "execution_count": 2,
   "metadata": {},
   "outputs": [
    {
     "name": "stdout",
     "output_type": "stream",
     "text": [
      "Año 2021: 3100724 habitantes\n",
      "Año 2020: 3080963 habitantes\n",
      "Año 2019: 3061328 habitantes\n",
      "Año 2018: 3041818 habitantes\n",
      "Año 2017: 3022433 habitantes\n",
      "Año 2016: 3003171 habitantes\n"
     ]
    }
   ],
   "source": [
    "# Datos iniciales\n",
    "poblacion_2010 = 2890151\n",
    "poblacion_2022 = 3120612\n",
    "\n",
    "# Calcular la tasa de crecimiento anual promedio\n",
    "tasa_crecimiento_anual = ((poblacion_2022 / poblacion_2010) ** (1/12)) - 1\n",
    "\n",
    "# Proyección poblacional para los años 2016 al 2021\n",
    "proyeccion_poblacional = poblacion_2022\n",
    "for year in range(2021, 2015, -1):\n",
    "    proyeccion_poblacional /= (1 + tasa_crecimiento_anual)\n",
    "    print(f\"Año {year}: {int(proyeccion_poblacional)} habitantes\")"
   ]
  }
 ],
 "metadata": {
  "kernelspec": {
   "display_name": "Python 3",
   "language": "python",
   "name": "python3"
  },
  "language_info": {
   "codemirror_mode": {
    "name": "ipython",
    "version": 3
   },
   "file_extension": ".py",
   "mimetype": "text/x-python",
   "name": "python",
   "nbconvert_exporter": "python",
   "pygments_lexer": "ipython3",
   "version": "3.11.4"
  }
 },
 "nbformat": 4,
 "nbformat_minor": 2
}
